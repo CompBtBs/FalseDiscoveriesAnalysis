{
 "cells": [
  {
   "cell_type": "raw",
   "id": "9937ac8b-ef20-4cca-a59d-138c2942b58d",
   "metadata": {},
   "source": [
    "CHRR_CBS3.ipynb  Differences amongst fluxes means and variances between CHRR Thinning 100 1k samples and CBS3 grouped by 1000\n",
    "\n",
    "    Version 1.0 February 2023\n",
    "\n",
    "    Authors: \n",
    "        - Bruno G. Galuzzi <bruno.galuzzi@unimib.it> (Department of Biotechnology and Biosciences, University of Milano-Bicocca)\n",
    "        - Luca Milazzo <l.milazzo1@campus.unimib.it> (Department of Informatics, Systems, and Communications, University of Milano-Bicocca)\n",
    "        - Chiara Damiani <chiara.damiani@unimib.it> (Department of Biotechnology and Biosciences, University of Milano-Bicocca)\n",
    "\n",
    "    Prerequisites and parameters:\n",
    "         - Install all the modules listed under the \"Libraries\" chapter"
   ]
  },
  {
   "cell_type": "markdown",
   "id": "4bedc24e-8f3d-4948-bec9-d12fa81d8929",
   "metadata": {
    "tags": []
   },
   "source": [
    "# Libraries"
   ]
  },
  {
   "cell_type": "code",
   "execution_count": 1,
   "id": "281d5c07-549d-49e7-b77b-4970557f34e4",
   "metadata": {},
   "outputs": [],
   "source": [
    "import cobra as cb\n",
    "import logging\n",
    "logging.basicConfig(filename=\"log.txt\"  , level=logging.INFO)\n",
    "import os\n",
    "import pandas as pd\n",
    "import numpy as np\n",
    "import statistics"
   ]
  },
  {
   "cell_type": "markdown",
   "id": "3b728af6-e767-4ad6-b748-d160a98e8376",
   "metadata": {
    "tags": []
   },
   "source": [
    "# Set up"
   ]
  },
  {
   "cell_type": "code",
   "execution_count": 2,
   "id": "7f315da7-9fb6-4107-9cd1-2313e27bf894",
   "metadata": {},
   "outputs": [],
   "source": [
    "modelNames = [\"ENGRO 1\", \"ENGRO 2\"]"
   ]
  },
  {
   "cell_type": "code",
   "execution_count": 3,
   "id": "0c2690de-f21c-4982-86df-f4c932daf2aa",
   "metadata": {},
   "outputs": [],
   "source": [
    "##############################################\n",
    "# Create a folder if it doesn't already exist\n",
    "# Parameters\n",
    "# - path --> new folder path\n",
    "##############################################\n",
    "def createFolder(path):\n",
    "    if not os.path.exists(path):\n",
    "            os.mkdir(path)"
   ]
  },
  {
   "cell_type": "markdown",
   "id": "4b420592-e4da-4c48-9b48-469d5c8e19c2",
   "metadata": {
    "tags": []
   },
   "source": [
    "# Loading models"
   ]
  },
  {
   "cell_type": "code",
   "execution_count": 4,
   "id": "b093a03e-d410-4d68-957b-3d75cac35ce5",
   "metadata": {},
   "outputs": [],
   "source": [
    "##############################################\n",
    "# Load the models files (.xml)\n",
    "# Parameters\n",
    "# - modelNames --> list of models names that must\n",
    "# match the file names\n",
    "# - modelFolder --> the folder containing the \n",
    "# models files\n",
    "##############################################\n",
    "def loadModels(modelNames, modelFolder):\n",
    "    models = {}\n",
    "    for modelName in modelNames:\n",
    "        files = os.listdir(modelFolder)\n",
    "        found = False\n",
    "        for file in files:\n",
    "            filename, extension = os.path.splitext(file)\n",
    "            if(filename == modelName):\n",
    "                found = True\n",
    "                break\n",
    "        if(found):\n",
    "            if(extension == \".xml\"):\n",
    "                models[modelName] = cb.io.read_sbml_model(modelFolder + filename + extension)\n",
    "            else:\n",
    "                raise ImportError('Model file extension not supported')\n",
    "        else:\n",
    "            raise FileNotFoundError('File not found')\n",
    "    return models"
   ]
  },
  {
   "cell_type": "code",
   "execution_count": 5,
   "id": "0def6f30-5800-48e9-937f-5793c4810f36",
   "metadata": {},
   "outputs": [],
   "source": [
    "modelsDict = loadModels(modelNames, \"../../models/\")\n",
    "modelReactionsDict = {}\n",
    "for modelName in modelNames:\n",
    "    listReactions = []\n",
    "    for reaction in modelsDict[modelName].reactions:\n",
    "        listReactions.append(reaction.id)\n",
    "    modelReactionsDict[modelName] = listReactions"
   ]
  },
  {
   "cell_type": "markdown",
   "id": "37ccf34d-223f-4e4a-b540-170ad6cd8e8f",
   "metadata": {
    "tags": []
   },
   "source": [
    "# Mean differences"
   ]
  },
  {
   "cell_type": "code",
   "execution_count": 6,
   "id": "8f907b9b-c6a7-4b52-88c8-34631b3af742",
   "metadata": {},
   "outputs": [
    {
     "data": {
      "text/plain": [
       "['1000_0_chrr.csv',\n",
       " '1000_1_chrr.csv',\n",
       " '1000_2_chrr.csv',\n",
       " '1000_3_chrr.csv',\n",
       " '1000_4_chrr.csv',\n",
       " '1000_5_chrr.csv',\n",
       " '1000_6_chrr.csv',\n",
       " '1000_7_chrr.csv',\n",
       " '1000_8_chrr.csv',\n",
       " '1000_9_chrr.csv',\n",
       " '1000_10_chrr.csv',\n",
       " '1000_11_chrr.csv',\n",
       " '1000_12_chrr.csv',\n",
       " '1000_13_chrr.csv',\n",
       " '1000_14_chrr.csv',\n",
       " '1000_15_chrr.csv',\n",
       " '1000_16_chrr.csv',\n",
       " '1000_17_chrr.csv',\n",
       " '1000_18_chrr.csv',\n",
       " '1000_19_chrr.csv']"
      ]
     },
     "execution_count": 6,
     "metadata": {},
     "output_type": "execute_result"
    }
   ],
   "source": [
    "namesChrr = []\n",
    "for j in range(0, 20):\n",
    "    namesChrr.append(str(1000) + \"_\" + str(j) + \"_chrr.csv\")\n",
    "namesChrr"
   ]
  },
  {
   "cell_type": "code",
   "execution_count": 7,
   "id": "a8310676-8916-47d5-a8b3-f76f3da84cc2",
   "metadata": {},
   "outputs": [
    {
     "data": {
      "text/plain": [
       "['0_0.csv',\n",
       " '1_0.csv',\n",
       " '2_0.csv',\n",
       " '3_0.csv',\n",
       " '4_0.csv',\n",
       " '5_0.csv',\n",
       " '6_0.csv',\n",
       " '7_0.csv',\n",
       " '8_0.csv',\n",
       " '9_0.csv',\n",
       " '10_0.csv',\n",
       " '11_0.csv',\n",
       " '12_0.csv',\n",
       " '13_0.csv',\n",
       " '14_0.csv',\n",
       " '15_0.csv',\n",
       " '16_0.csv',\n",
       " '17_0.csv',\n",
       " '18_0.csv',\n",
       " '19_0.csv']"
      ]
     },
     "execution_count": 7,
     "metadata": {},
     "output_type": "execute_result"
    }
   ],
   "source": [
    "namesCbs3 = []\n",
    "for j in range(0, 20):\n",
    "    namesCbs3.append(str(j) + \"_0.csv\")\n",
    "namesCbs3"
   ]
  },
  {
   "cell_type": "code",
   "execution_count": 10,
   "id": "541b8b52-60d8-461b-a2bf-4bc8f3939cc1",
   "metadata": {},
   "outputs": [],
   "source": [
    "def meanDiff(modelNames, modelsDict, modelReactionsDict, elementPath, resultPath):\n",
    "    \n",
    "    createFolder(resultPath)\n",
    "    for modelName in modelNames:\n",
    "        createFolder(resultPath + modelName)\n",
    "        dfColumns = ['testName']\n",
    "        dfColumns.extend(modelReactionsDict[modelName])\n",
    "        resultDf = pd.DataFrame(columns = dfColumns)\n",
    "        lenDf = 0\n",
    "        nReactions = len(modelReactionsDict[modelName])\n",
    "\n",
    "        for nexec in range (0, 20):\n",
    "            test_name = nexec\n",
    "            res = [test_name]\n",
    "\n",
    "            df_chrr = pd.read_csv(os.path.join(elementPath , modelName ,  \"CHRR\"+\n",
    "                                            \"Thinning\" + str(100) , namesChrr[nexec]), index_col = 0)\n",
    "            \n",
    "            df_cbs3 = pd.read_csv(os.path.join(elementPath , modelName ,  \"CBS3\"+\n",
    "                                            \"groupedBy\" + str(1000) , namesCbs3[nexec]), index_col = 0)\n",
    "            \n",
    "\n",
    "            for h in range(nReactions):\n",
    "                if(statistics.mean(df_cbs3.iloc[:, h]) ==0 and statistics.mean(df_chrr.iloc[:, h]) == 0 ):\n",
    "                    delta = 0\n",
    "                else:\n",
    "                    delta = abs(statistics.mean(df_cbs3.iloc[:, h]) - statistics.mean(df_chrr.iloc[:, h])) / max(abs(statistics.mean(df_cbs3.iloc[:, h])), abs(statistics.mean(df_chrr.iloc[:, h])))\n",
    "                res.append(delta)\n",
    "            resultDf.loc[lenDf] = res\n",
    "            lenDf = lenDf + 1\n",
    "        resultDf.set_index('testName').to_csv(os.path.join(resultPath, modelName, \"meanDiff.csv\"))\n",
    "\n"
   ]
  },
  {
   "cell_type": "code",
   "execution_count": 11,
   "id": "d2c2ce45-4e8a-4a1a-b997-269f290e0838",
   "metadata": {},
   "outputs": [],
   "source": [
    "samplesFolder = \"../../samples/\"\n",
    "resultPath = \"../../results/CHRR_CBS3/\"\n",
    "meanDiff(modelNames, modelsDict, modelReactionsDict, samplesFolder, resultPath)"
   ]
  },
  {
   "cell_type": "markdown",
   "id": "d52792a6-d0d7-496d-a3ba-463a145ba302",
   "metadata": {
    "tags": []
   },
   "source": [
    "# Variance differences"
   ]
  },
  {
   "cell_type": "code",
   "execution_count": 12,
   "id": "1d6f477f-dbd7-41d6-bc7a-4c6378215be9",
   "metadata": {},
   "outputs": [
    {
     "data": {
      "text/plain": [
       "['1000_0_chrr.csv',\n",
       " '1000_1_chrr.csv',\n",
       " '1000_2_chrr.csv',\n",
       " '1000_3_chrr.csv',\n",
       " '1000_4_chrr.csv',\n",
       " '1000_5_chrr.csv',\n",
       " '1000_6_chrr.csv',\n",
       " '1000_7_chrr.csv',\n",
       " '1000_8_chrr.csv',\n",
       " '1000_9_chrr.csv',\n",
       " '1000_10_chrr.csv',\n",
       " '1000_11_chrr.csv',\n",
       " '1000_12_chrr.csv',\n",
       " '1000_13_chrr.csv',\n",
       " '1000_14_chrr.csv',\n",
       " '1000_15_chrr.csv',\n",
       " '1000_16_chrr.csv',\n",
       " '1000_17_chrr.csv',\n",
       " '1000_18_chrr.csv',\n",
       " '1000_19_chrr.csv']"
      ]
     },
     "execution_count": 12,
     "metadata": {},
     "output_type": "execute_result"
    }
   ],
   "source": [
    "namesChrr = []\n",
    "for j in range(0, 20):\n",
    "    namesChrr.append(str(1000) + \"_\" + str(j) + \"_chrr.csv\")\n",
    "namesChrr"
   ]
  },
  {
   "cell_type": "code",
   "execution_count": 13,
   "id": "31ac4634-1590-4cad-8244-8ffc6cec03fa",
   "metadata": {},
   "outputs": [
    {
     "data": {
      "text/plain": [
       "['0_0.csv',\n",
       " '1_0.csv',\n",
       " '2_0.csv',\n",
       " '3_0.csv',\n",
       " '4_0.csv',\n",
       " '5_0.csv',\n",
       " '6_0.csv',\n",
       " '7_0.csv',\n",
       " '8_0.csv',\n",
       " '9_0.csv',\n",
       " '10_0.csv',\n",
       " '11_0.csv',\n",
       " '12_0.csv',\n",
       " '13_0.csv',\n",
       " '14_0.csv',\n",
       " '15_0.csv',\n",
       " '16_0.csv',\n",
       " '17_0.csv',\n",
       " '18_0.csv',\n",
       " '19_0.csv']"
      ]
     },
     "execution_count": 13,
     "metadata": {},
     "output_type": "execute_result"
    }
   ],
   "source": [
    "namesCbs3 = []\n",
    "for j in range(0, 20):\n",
    "    namesCbs3.append(str(j) + \"_0.csv\")\n",
    "namesCbs3"
   ]
  },
  {
   "cell_type": "code",
   "execution_count": 16,
   "id": "84e4d89c-9ce3-49eb-ac7c-561dbb52e43f",
   "metadata": {},
   "outputs": [],
   "source": [
    "def varianceDiff(modelNames, modelsDict, modelReactionsDict, elementPath, resultPath):\n",
    "    \n",
    "    createFolder(resultPath)\n",
    "    for modelName in modelNames:\n",
    "        createFolder(resultPath + modelName)\n",
    "        dfColumns = ['testName']\n",
    "        dfColumns.extend(modelReactionsDict[modelName])\n",
    "        resultDf = pd.DataFrame(columns = dfColumns)\n",
    "        lenDf = 0\n",
    "        nReactions = len(modelReactionsDict[modelName])\n",
    "\n",
    "        for nexec in range (0, 20):\n",
    "            test_name = nexec\n",
    "            res = [test_name]\n",
    "\n",
    "            df_chrr = pd.read_csv(os.path.join(elementPath , modelName ,  \"CHRR\"+\n",
    "                                            \"Thinning\" + str(100) , namesChrr[nexec]), index_col = 0)\n",
    "            \n",
    "            df_cbs3 = pd.read_csv(os.path.join(elementPath , modelName ,  \"CBS3\"+\n",
    "                                            \"groupedBy\" + str(1000) , namesCbs3[nexec]), index_col = 0)\n",
    "\n",
    "\n",
    "            for h in range(nReactions):\n",
    "                if(statistics.variance(df_cbs3.iloc[:, h]) ==0 and statistics.variance(df_chrr.iloc[:, h]) == 0 ):\n",
    "                    delta = 0\n",
    "                else:\n",
    "                    delta = abs(statistics.variance(df_cbs3.iloc[:, h]) - statistics.variance(df_chrr.iloc[:, h])) / max(abs(statistics.variance(df_cbs3.iloc[:, h])), abs(statistics.variance(df_chrr.iloc[:, h])))\n",
    "                res.append(delta)\n",
    "            resultDf.loc[lenDf] = res\n",
    "            lenDf = lenDf + 1\n",
    "        resultDf.set_index('testName').to_csv(os.path.join(resultPath, modelName, \"varianceDiff.csv\"))\n",
    "\n"
   ]
  },
  {
   "cell_type": "code",
   "execution_count": 17,
   "id": "707ed264-3c30-41dd-a8de-584aa1442e78",
   "metadata": {},
   "outputs": [],
   "source": [
    "samplesFolder = \"../../samples/\"\n",
    "resultPath = \"../../results/CHRR_CBS3/\"\n",
    "varianceDiff(modelNames, modelsDict, modelReactionsDict, samplesFolder, resultPath)"
   ]
  },
  {
   "cell_type": "code",
   "execution_count": null,
   "id": "13125b7c-ca7b-4d69-8b99-e0a004e1d9de",
   "metadata": {},
   "outputs": [],
   "source": []
  }
 ],
 "metadata": {
  "kernelspec": {
   "display_name": "Python 3 (ipykernel)",
   "language": "python",
   "name": "python3"
  },
  "language_info": {
   "codemirror_mode": {
    "name": "ipython",
    "version": 3
   },
   "file_extension": ".py",
   "mimetype": "text/x-python",
   "name": "python",
   "nbconvert_exporter": "python",
   "pygments_lexer": "ipython3",
   "version": "3.9.7"
  }
 },
 "nbformat": 4,
 "nbformat_minor": 5
}
