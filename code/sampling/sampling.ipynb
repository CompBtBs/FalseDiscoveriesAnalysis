{
 "cells": [
  {
   "cell_type": "markdown",
   "id": "580d46cb-51a6-4674-890a-def59904be10",
   "metadata": {},
   "source": [
    "# Libraries"
   ]
  },
  {
   "cell_type": "code",
   "execution_count": 1,
   "id": "8313cc44-e9e9-46d2-b999-b997013ac3b0",
   "metadata": {},
   "outputs": [],
   "source": [
    "import cobra as cb\n",
    "import logging\n",
    "logging.basicConfig(filename=\"log.txt\"  , level=logging.INFO)\n",
    "import os"
   ]
  },
  {
   "cell_type": "markdown",
   "id": "8346994c-66b0-47f8-804f-c1c13e457847",
   "metadata": {},
   "source": [
    "# Loading models"
   ]
  },
  {
   "cell_type": "code",
   "execution_count": null,
   "id": "51aeede8-a2a1-4c5b-9f0c-99b58db76276",
   "metadata": {},
   "outputs": [],
   "source": [
    "def loadModels(modelNames, modelFolder):\n",
    "    models = {}\n",
    "    for modelName in modelNames:\n",
    "        files = os.listdir(modelFolder)\n",
    "        found = False\n",
    "        for file in files:\n",
    "            filename, extension = os.path.splitext(file)\n",
    "            if(filename == modelName):\n",
    "                found = True\n",
    "                break\n",
    "        if(found):\n",
    "            if(extension == \".xml\"):\n",
    "                models[modelName] = cb.io.read_sbml_model(modelFolder + filename + extension)\n",
    "            elif(extension == \".json\")\n",
    "                models[modelName] = cb.io.load_json_model(modelFolder + filename + extension)\n",
    "            else\n",
    "                raise ImportError('Model file extension not supported')\n",
    "        else:\n",
    "            raise FileNotFoundError('File not found')\n",
    "    return models"
   ]
  },
  {
   "cell_type": "code",
   "execution_count": null,
   "id": "a273e0a4-f456-43a2-8b1c-d20ded7ec25e",
   "metadata": {},
   "outputs": [],
   "source": [
    "modelNames = [\"ENGRO1\", \"ENGRO2\"]\n",
    "modelsDict = loadModels(modelNames, \".../models/\")"
   ]
  },
  {
   "cell_type": "markdown",
   "id": "3d0eed0d-533e-45e6-b6c2-2f24516c446c",
   "metadata": {},
   "source": [
    "# Sampling"
   ]
  },
  {
   "cell_type": "code",
   "execution_count": null,
   "id": "3301ea67-9dad-4580-8a6f-3a6ae589bdec",
   "metadata": {},
   "outputs": [],
   "source": [
    "def sampler(modelNames, modelsDict, algorithms, samples, executions, \n",
    "            thinnings, processes, samplesFolder):\n",
    "    \n",
    "    for modelName in modelNames:\n",
    "        model = modelsDict[modelName]\n",
    "        extension = \"\"\n",
    "        for thinning in thinnings:\n",
    "            for algorithm in algorithms:\n",
    "                path = os.path.join(samplesFolder, algorithm + \"Thinning\" + str(thinning))\n",
    "                os.mkdir(path)\n",
    "                if(algorithm == \"ACHR\"):\n",
    "                    sampler = ACHRSampler(model, thinning = thinning, seed = 1)\n",
    "                    extension = \"_achr.csv\"\n",
    "                elif(algorithm == \"OPTGP\"):\n",
    "                    sampler = OptGPSampler(model,  thinning = thinning,\n",
    "                                           processes = processes)\n",
    "                    extension = \"_optgp.csv\"\n",
    "                else:\n",
    "                    NotImplementedError('Algorithm not supported')\n",
    "                for nsample in samples:\n",
    "                    logging.info(\"Creating \" + str(nsample) + \" samples - \" + modelName + \" - \" + \n",
    "                          algorithm + \" - Thinning \" + str(thinning))\n",
    "                    for h in range (0, executions, 1):\n",
    "                        sampler.sample(nsample).to_csv(path + str(nsample) + \"_\" + str(h) + extension)\n",
    "    pass"
   ]
  },
  {
   "cell_type": "code",
   "execution_count": null,
   "id": "2a4a676b-8482-4076-a283-48ba77394008",
   "metadata": {},
   "outputs": [],
   "source": [
    "samplesNList = []\n",
    "for i in range(1000, 30001, 1000):\n",
    "    samplesNList.append(i)\n",
    "    \n",
    "executionsPerSampleSize = 20\n",
    "\n",
    "algorithms = [\"ACHR\", \"OPTGP\"]\n",
    "\n",
    "thinnings = [1, 10, 100]\n",
    "\n",
    "nprocesses = 4\n",
    "\n",
    "samplesFolder = \".../samples/\"\n",
    "    \n",
    "sampler(modelNames, modelsDict, algorithms, samplesNList, executionsPerSampleSize, thinnings, nprocesses, samplesFolder)"
   ]
  }
 ],
 "metadata": {
  "kernelspec": {
   "display_name": "Python 3 (ipykernel)",
   "language": "python",
   "name": "python3"
  },
  "language_info": {
   "codemirror_mode": {
    "name": "ipython",
    "version": 3
   },
   "file_extension": ".py",
   "mimetype": "text/x-python",
   "name": "python",
   "nbconvert_exporter": "python",
   "pygments_lexer": "ipython3",
   "version": "3.9.7"
  }
 },
 "nbformat": 4,
 "nbformat_minor": 5
}
