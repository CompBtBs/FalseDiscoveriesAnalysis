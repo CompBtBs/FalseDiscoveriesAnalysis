{
 "cells": [
  {
   "cell_type": "raw",
   "id": "caaa69de-4975-468f-ab2f-4ff7ca769f63",
   "metadata": {
    "tags": []
   },
   "source": [
    "sampling.ipynb  Sampling ENGRO1 and ENGRO2 models by using ACHR, OPTGP and CBS3 algorithms\n",
    "\n",
    "    Version 1.0 February 2023\n",
    "\n",
    "    Authors: \n",
    "        - Bruno G. Galuzzi <bruno.galuzzi@unimib.it> (Department of Biotechnology and Biosciences, University of Milano-Bicocca)\n",
    "        - Luca Milazzo <l.milazzo1@campus.unimib.it> (Department of Informatics, Systems, and Communications, University of Milano-Bicocca)\n",
    "        - Chiara Damiani <chiara.damiani@unimib.it> (Department of Biotechnology and Biosciences, University of Milano-Bicocca)\n",
    "\n",
    "    Prerequisites and parameters:\n",
    "         - Install all the modules listed under the \"Libraries\" chapter"
   ]
  },
  {
   "cell_type": "markdown",
   "id": "580d46cb-51a6-4674-890a-def59904be10",
   "metadata": {
    "tags": []
   },
   "source": [
    "# Libraries"
   ]
  },
  {
   "cell_type": "code",
   "execution_count": 81,
   "id": "8313cc44-e9e9-46d2-b999-b997013ac3b0",
   "metadata": {},
   "outputs": [],
   "source": [
    "import cobra as cb\n",
    "from cobra.sampling import sample, OptGPSampler, ACHRSampler\n",
    "import logging\n",
    "logging.basicConfig(filename=\"log.txt\"  , level=logging.INFO)\n",
    "import os\n",
    "import random\n",
    "import pandas as pd\n",
    "import numpy as np"
   ]
  },
  {
   "cell_type": "markdown",
   "id": "ee6ad4a3-e9d5-4afb-bb6d-7f4f7bcaf093",
   "metadata": {},
   "source": [
    "# Set up"
   ]
  },
  {
   "cell_type": "code",
   "execution_count": 82,
   "id": "557b436c-e969-4d8e-9275-3a336d192256",
   "metadata": {},
   "outputs": [],
   "source": [
    "modelNames = [\"ENGRO 1\", \"ENGRO 2\"]"
   ]
  },
  {
   "cell_type": "code",
   "execution_count": 83,
   "id": "b66d840d-b412-4291-867c-9a954db3b31a",
   "metadata": {},
   "outputs": [],
   "source": [
    "##############################################\n",
    "# Create a folder if it doesn't already exist\n",
    "# Parameters\n",
    "# - path --> new folder path\n",
    "##############################################\n",
    "def createFolder(path):\n",
    "    if not os.path.exists(path):\n",
    "            os.mkdir(path)"
   ]
  },
  {
   "cell_type": "markdown",
   "id": "8346994c-66b0-47f8-804f-c1c13e457847",
   "metadata": {
    "tags": []
   },
   "source": [
    "# Loading models"
   ]
  },
  {
   "cell_type": "code",
   "execution_count": 84,
   "id": "51aeede8-a2a1-4c5b-9f0c-99b58db76276",
   "metadata": {},
   "outputs": [],
   "source": [
    "##############################################\n",
    "# Load the models files (.xml)\n",
    "# Parameters\n",
    "# - modelNames --> list of models names that must\n",
    "# match the file names\n",
    "# - modelFolder --> the folder containing the \n",
    "# models files\n",
    "##############################################\n",
    "def loadModels(modelNames, modelFolder):\n",
    "    models = {}\n",
    "    for modelName in modelNames:\n",
    "        files = os.listdir(modelFolder)\n",
    "        found = False\n",
    "        for file in files:\n",
    "            filename, extension = os.path.splitext(file)\n",
    "            if(filename == modelName):\n",
    "                found = True\n",
    "                break\n",
    "        if(found):\n",
    "            if(extension == \".xml\"):\n",
    "                models[modelName] = cb.io.read_sbml_model(modelFolder + filename + extension)\n",
    "            else:\n",
    "                raise ImportError('Model file extension not supported')\n",
    "        else:\n",
    "            raise FileNotFoundError('File not found')\n",
    "    return models"
   ]
  },
  {
   "cell_type": "code",
   "execution_count": 85,
   "id": "a273e0a4-f456-43a2-8b1c-d20ded7ec25e",
   "metadata": {},
   "outputs": [],
   "source": [
    "modelsDict = loadModels(modelNames, \"../../models/\")\n",
    "modelReactionsDict = {}\n",
    "for modelName in modelNames:\n",
    "    listReactions = []\n",
    "    for reaction in modelsDict[modelName].reactions:\n",
    "        listReactions.append(reaction.id)\n",
    "    modelReactionsDict[modelName] = listReactions"
   ]
  },
  {
   "cell_type": "markdown",
   "id": "3d0eed0d-533e-45e6-b6c2-2f24516c446c",
   "metadata": {
    "tags": []
   },
   "source": [
    "# Sampling ACHR and OPTGP"
   ]
  },
  {
   "cell_type": "code",
   "execution_count": 89,
   "id": "3301ea67-9dad-4580-8a6f-3a6ae589bdec",
   "metadata": {},
   "outputs": [],
   "source": [
    "##############################################\n",
    "# Samples the models by using sampling algorithms\n",
    "# (ACHR and OPTGP) over multiple repetetitions at fixed sample size\n",
    "# Parameters\n",
    "# - modelNames --> loaded models to sample\n",
    "# - modelsDict --> dictionary containing the models\n",
    "# - algorithms --> list of algorithms to use (ACHR and/or OPTGP)\n",
    "# - samples --> list of fixed samples\n",
    "# - executions --> number of repetition for each fixed sample size\n",
    "# - thinnings --> list of thinnings to use\n",
    "# - processes --> number of processes to use (see OPTGP documentation)\n",
    "# - samplesFolder --> target folder for all the samples\n",
    "##############################################\n",
    "def sampler(modelNames, modelsDict, algorithms, samples, executions, \n",
    "            thinnings, processes, samplesFolder):\n",
    "    \n",
    "    for modelName in modelNames:\n",
    "        model = modelsDict[modelName]\n",
    "        extension = \"\"\n",
    "        createFolder(samplesFolder + modelName)\n",
    "        for algorithm in algorithms:\n",
    "            for thinning in thinnings:\n",
    "                createFolder(samplesFolder + modelName+ \"/\" + algorithm + \"Thinning\" + str(thinning))\n",
    "                path = samplesFolder + modelName + \"/\" + algorithm + \"Thinning\" + str(thinning)+ \"/\"\n",
    "                if(algorithm == \"ACHR\"):\n",
    "                    sampler = ACHRSampler(model, thinning = thinning, seed = 1)\n",
    "                    extension = \"_achr.csv\"\n",
    "                elif(algorithm == \"OPTGP\"):\n",
    "                    sampler = OptGPSampler(model,  thinning = thinning,\n",
    "                                           processes = processes)\n",
    "                    extension = \"_optgp.csv\"\n",
    "                else:\n",
    "                    raise NotImplementedError('Algorithm not supported')\n",
    "                for nsample in samples:\n",
    "                    logging.info(\"Creating \" + str(nsample) + \" samples - \" + modelName + \" - \" + \n",
    "                          algorithm + \" - Thinning \" + str(thinning))\n",
    "                    for h in range (0, executions, 1):\n",
    "                        sampler.sample(nsample).to_csv(path + str(nsample) + \"_\" + str(h) + extension)\n",
    "    pass"
   ]
  },
  {
   "cell_type": "code",
   "execution_count": null,
   "id": "2a4a676b-8482-4076-a283-48ba77394008",
   "metadata": {},
   "outputs": [],
   "source": [
    "samplesNList = []\n",
    "for i in range(1000, 30001, 1000):\n",
    "    samplesNList.append(i)\n",
    "    \n",
    "executionsPerSampleSize = 20\n",
    "\n",
    "algorithms = [\"ACHR\", \"OPTGP\"]\n",
    "\n",
    "thinnings = [1, 10, 100]\n",
    "\n",
    "nprocesses = 4\n",
    "\n",
    "samplesFolder = \"../../samples/\"\n",
    "    \n",
    "sampler(modelNames, modelsDict, algorithms, samplesNList, executionsPerSampleSize, thinnings, nprocesses, samplesFolder)"
   ]
  },
  {
   "cell_type": "code",
   "execution_count": null,
   "id": "9fabf647-6d68-4004-adce-07b4be67218e",
   "metadata": {},
   "outputs": [],
   "source": [
    "samplesNList = []\n",
    "for i in range(1, 10, 2):\n",
    "    samplesNList.append(i)\n",
    "    \n",
    "executionsPerSampleSize = 3\n",
    "\n",
    "algorithms = [\"ACHR\", \"OPTGP\"]\n",
    "\n",
    "thinnings = [1, 2, 3]\n",
    "\n",
    "nprocesses = 4\n",
    "\n",
    "samplesFolder = \"../../samples/\"\n",
    "    \n",
    "sampler(modelNames, modelsDict, algorithms, samplesNList, executionsPerSampleSize, thinnings, nprocesses, samplesFolder)"
   ]
  },
  {
   "cell_type": "markdown",
   "id": "f2375ab2-3bd0-4332-9e84-de9642df7e4a",
   "metadata": {
    "tags": []
   },
   "source": [
    "# Sampling CBS3"
   ]
  },
  {
   "cell_type": "code",
   "execution_count": 52,
   "id": "fe5e1d92-d837-4334-820f-649b07ce74bd",
   "metadata": {},
   "outputs": [],
   "source": [
    "##############################################\n",
    "# Samples the models by using the CBS3 algorithm\n",
    "# based on FBA with random functions\n",
    "# Parameters\n",
    "# - modelNames --> loaded models to sample\n",
    "# - modelsDict --> dictionary containing the models\n",
    "# - modelReactionsDict --> dictionary containing the models reactions\n",
    "# - executions --> number of repetition for each group\n",
    "# - groupedBy --> number of samples in each group\n",
    "# - samplesFolder --> target folder for all the samples\n",
    "##############################################\n",
    "def randomObjectiveFunction(modelNames, modelsDict, modelReactionsDict, executions, groupedBy , samplesFolder):\n",
    "    \n",
    "    for modelName in modelNames:\n",
    "        \n",
    "        createFolder(samplesFolder + modelName)\n",
    "            \n",
    "        path = samplesFolder + modelName + \"/CBS3groupedBy\" + str(groupedBy) + \"/\"\n",
    "        \n",
    "        createFolder(path)\n",
    "        \n",
    "        model = modelsDict[modelName]\n",
    "        \n",
    "        df_fva = cb.flux_analysis.flux_variability_analysis(model, processes=1,fraction_of_optimum=0).round(10).abs()\n",
    "        \n",
    "        reactions = modelReactionsDict[modelName]\n",
    "        nReactions = len(reactions)\n",
    "\n",
    "        for i in range(0, executions):\n",
    "            df = pd.DataFrame(columns=reactions)\n",
    "            logging.info(\"Creating \" + str(i) + \"-th file - \" + modelName)\n",
    "            for j in range(0, groupedBy):\n",
    "\n",
    "                threshold=random.random() #coefficiente tra 0 e 1\n",
    "\n",
    "                coefficients = dict()\n",
    "\n",
    "                for reaction in reactions:\n",
    "                    \n",
    "                    val=random.random()\n",
    "                    if val>threshold:\n",
    "                        val_max=np.max([df_fva.loc[reaction,\"minimum\"],df_fva.loc[reaction,\"maximum\"]])\n",
    "                        c=2*random.random()-1 #coefficiente tra -1 e 1\n",
    "                        if val_max!=0: #solo se la fva è diversa da zero\n",
    "                            coefficients[model.reactions.get_by_id(reaction)] = c/val_max #divido per la fva\n",
    "                        else:\n",
    "                            coefficients[model.reactions.get_by_id(reaction)] = 0\n",
    "                    else:\n",
    "                        coefficients[model.reactions.get_by_id(reaction)] = 0\n",
    "                        \n",
    "                model.objective=coefficients\n",
    "\n",
    "                if random.random()<0.5:\n",
    "                    df.loc[j] = model.optimize(objective_sense=\"maximize\").fluxes\n",
    "                else:\n",
    "                    df.loc[j] = model.optimize(objective_sense=\"minimize\").fluxes\n",
    "            df.to_csv(path +  str(i) +  \"_0_cbs3.csv\")\n",
    "    pass"
   ]
  },
  {
   "cell_type": "code",
   "execution_count": null,
   "id": "2791275f-2dfd-41ea-aced-7f15e857cd6c",
   "metadata": {},
   "outputs": [],
   "source": [
    "executions = 20\n",
    "\n",
    "groupedBy = 1000\n",
    "\n",
    "samplesFolder = \"../../samples/\"\n",
    "    \n",
    "randomObjectiveFunction(modelNames, modelsDict, modelReactionsDict, executions, groupedBy , samplesFolder)"
   ]
  },
  {
   "cell_type": "code",
   "execution_count": null,
   "id": "bf3be568-954c-4996-94c6-eb3ef0d40525",
   "metadata": {},
   "outputs": [],
   "source": []
  }
 ],
 "metadata": {
  "kernelspec": {
   "display_name": "Python 3 (ipykernel)",
   "language": "python",
   "name": "python3"
  },
  "language_info": {
   "codemirror_mode": {
    "name": "ipython",
    "version": 3
   },
   "file_extension": ".py",
   "mimetype": "text/x-python",
   "name": "python",
   "nbconvert_exporter": "python",
   "pygments_lexer": "ipython3",
   "version": "3.9.7"
  }
 },
 "nbformat": 4,
 "nbformat_minor": 5
}
